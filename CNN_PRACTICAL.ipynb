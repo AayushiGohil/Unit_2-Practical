{
  "nbformat": 4,
  "nbformat_minor": 0,
  "metadata": {
    "colab": {
      "provenance": []
    },
    "kernelspec": {
      "name": "python3",
      "display_name": "Python 3"
    },
    "language_info": {
      "name": "python"
    }
  },
  "cells": [
    {
      "cell_type": "code",
      "execution_count": 1,
      "metadata": {
        "id": "x5mi6beqK28H"
      },
      "outputs": [],
      "source": [
        "import numpy as np\n",
        "import tensorflow as tf\n",
        "from tensorflow.keras import layers, models\n",
        "from tensorflow.keras.datasets import cifar10\n",
        "from tensorflow.keras.utils import to_categorical\n"
      ]
    },
    {
      "cell_type": "code",
      "source": [
        "(x_train, y_train), (x_test, y_test) = cifar10.load_data()"
      ],
      "metadata": {
        "colab": {
          "base_uri": "https://localhost:8080/"
        },
        "id": "CkWGGXqR-WWZ",
        "outputId": "629f8e1d-3708-4634-d189-c7361c4ef4c2"
      },
      "execution_count": 2,
      "outputs": [
        {
          "output_type": "stream",
          "name": "stdout",
          "text": [
            "Downloading data from https://www.cs.toronto.edu/~kriz/cifar-10-python.tar.gz\n",
            "170498071/170498071 [==============================] - 4s 0us/step\n"
          ]
        }
      ]
    },
    {
      "cell_type": "code",
      "source": [
        "x_train = x_train.astype('float32') / 255.0\n",
        "x_test = x_test.astype('float32') / 255.0"
      ],
      "metadata": {
        "id": "lfYwrF0q-eBi"
      },
      "execution_count": 3,
      "outputs": []
    },
    {
      "cell_type": "code",
      "source": [
        "y_train = to_categorical(y_train, 10)\n",
        "y_test = to_categorical(y_test, 10)\n"
      ],
      "metadata": {
        "id": "xQszCxaq-iLh"
      },
      "execution_count": 4,
      "outputs": []
    },
    {
      "cell_type": "code",
      "source": [
        "model = models.Sequential([\n",
        "    layers.Conv2D(32, (3, 3), activation='relu', input_shape=(32, 32, 3)),\n",
        "    layers.MaxPooling2D((2, 2)),\n",
        "    layers.Conv2D(64, (3, 3), activation='relu'),\n",
        "    layers.MaxPooling2D((2, 2)),\n",
        "    layers.Conv2D(64, (3, 3), activation='relu'),\n",
        "    layers.Flatten(),\n",
        "    layers.Dense(64, activation='relu'),\n",
        "    layers.Dense(10, activation='softmax')\n",
        "])"
      ],
      "metadata": {
        "id": "a0aAQkRU-mrp"
      },
      "execution_count": 5,
      "outputs": []
    },
    {
      "cell_type": "code",
      "source": [
        "model.compile(optimizer='adam',\n",
        "              loss='categorical_crossentropy',\n",
        "              metrics=['accuracy'])\n",
        "\n"
      ],
      "metadata": {
        "id": "wxHY-CHj-r71"
      },
      "execution_count": 6,
      "outputs": []
    },
    {
      "cell_type": "code",
      "source": [
        "model.summary()"
      ],
      "metadata": {
        "colab": {
          "base_uri": "https://localhost:8080/"
        },
        "id": "pNvfgrFWA1cF",
        "outputId": "81bf669e-8a80-4c58-caa0-b938a60a5d08"
      },
      "execution_count": 8,
      "outputs": [
        {
          "output_type": "stream",
          "name": "stdout",
          "text": [
            "Model: \"sequential\"\n",
            "_________________________________________________________________\n",
            " Layer (type)                Output Shape              Param #   \n",
            "=================================================================\n",
            " conv2d (Conv2D)             (None, 30, 30, 32)        896       \n",
            "                                                                 \n",
            " max_pooling2d (MaxPooling2D  (None, 15, 15, 32)       0         \n",
            " )                                                               \n",
            "                                                                 \n",
            " conv2d_1 (Conv2D)           (None, 13, 13, 64)        18496     \n",
            "                                                                 \n",
            " max_pooling2d_1 (MaxPooling  (None, 6, 6, 64)         0         \n",
            " 2D)                                                             \n",
            "                                                                 \n",
            " conv2d_2 (Conv2D)           (None, 4, 4, 64)          36928     \n",
            "                                                                 \n",
            " flatten (Flatten)           (None, 1024)              0         \n",
            "                                                                 \n",
            " dense (Dense)               (None, 64)                65600     \n",
            "                                                                 \n",
            " dense_1 (Dense)             (None, 10)                650       \n",
            "                                                                 \n",
            "=================================================================\n",
            "Total params: 122,570\n",
            "Trainable params: 122,570\n",
            "Non-trainable params: 0\n",
            "_________________________________________________________________\n"
          ]
        }
      ]
    },
    {
      "cell_type": "code",
      "source": [
        "batch_size = 128\n",
        "epochs = 10\n",
        "model.fit(x_train, y_train, batch_size=batch_size, epochs=epochs, validation_data=(x_test, y_test))"
      ],
      "metadata": {
        "colab": {
          "base_uri": "https://localhost:8080/"
        },
        "id": "l1N1IELs-0SQ",
        "outputId": "a3cead12-08d5-4af1-b35d-d010a92e215c"
      },
      "execution_count": 7,
      "outputs": [
        {
          "output_type": "stream",
          "name": "stdout",
          "text": [
            "Epoch 1/10\n",
            "391/391 [==============================] - 48s 121ms/step - loss: 1.6631 - accuracy: 0.3936 - val_loss: 1.3871 - val_accuracy: 0.5066\n",
            "Epoch 2/10\n",
            "391/391 [==============================] - 47s 120ms/step - loss: 1.3226 - accuracy: 0.5276 - val_loss: 1.2211 - val_accuracy: 0.5702\n",
            "Epoch 3/10\n",
            "391/391 [==============================] - 45s 116ms/step - loss: 1.1815 - accuracy: 0.5832 - val_loss: 1.1312 - val_accuracy: 0.5969\n",
            "Epoch 4/10\n",
            "391/391 [==============================] - 44s 112ms/step - loss: 1.0845 - accuracy: 0.6192 - val_loss: 1.1024 - val_accuracy: 0.6127\n",
            "Epoch 5/10\n",
            "391/391 [==============================] - 45s 114ms/step - loss: 1.0075 - accuracy: 0.6497 - val_loss: 1.0502 - val_accuracy: 0.6278\n",
            "Epoch 6/10\n",
            "391/391 [==============================] - 44s 113ms/step - loss: 0.9517 - accuracy: 0.6672 - val_loss: 0.9787 - val_accuracy: 0.6647\n",
            "Epoch 7/10\n",
            "391/391 [==============================] - 43s 111ms/step - loss: 0.8968 - accuracy: 0.6880 - val_loss: 0.9099 - val_accuracy: 0.6832\n",
            "Epoch 8/10\n",
            "391/391 [==============================] - 44s 113ms/step - loss: 0.8525 - accuracy: 0.7034 - val_loss: 0.9228 - val_accuracy: 0.6787\n",
            "Epoch 9/10\n",
            "391/391 [==============================] - 47s 121ms/step - loss: 0.8140 - accuracy: 0.7171 - val_loss: 0.8813 - val_accuracy: 0.6964\n",
            "Epoch 10/10\n",
            "391/391 [==============================] - 46s 118ms/step - loss: 0.7801 - accuracy: 0.7265 - val_loss: 0.9481 - val_accuracy: 0.6738\n"
          ]
        },
        {
          "output_type": "execute_result",
          "data": {
            "text/plain": [
              "<keras.callbacks.History at 0x782042c16740>"
            ]
          },
          "metadata": {},
          "execution_count": 7
        }
      ]
    },
    {
      "cell_type": "code",
      "source": [
        "test_loss, test_accuracy = model.evaluate(x_test, y_test, verbose=0)\n",
        "print(\"Test accuracy:\", test_accuracy)"
      ],
      "metadata": {
        "colab": {
          "base_uri": "https://localhost:8080/"
        },
        "id": "T_klbffLA-Jg",
        "outputId": "1019f577-ea4f-4585-a270-44a7e9b51cae"
      },
      "execution_count": 9,
      "outputs": [
        {
          "output_type": "stream",
          "name": "stdout",
          "text": [
            "Test accuracy: 0.673799991607666\n"
          ]
        }
      ]
    }
  ]
}